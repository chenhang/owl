{
 "cells": [
  {
   "cell_type": "code",
   "execution_count": 1,
   "metadata": {},
   "outputs": [],
   "source": [
    "from owl import *\n",
    "from trueskill import Rating, rate, BETA, global_env\n",
    "import itertools\n",
    "import math\n",
    "\n",
    "def win_probability(team1, team2):\n",
    "    delta_mu = sum(r.mu for r in team1) - sum(r.mu for r in team2)\n",
    "    sum_sigma = sum(r.sigma ** 2 for r in itertools.chain(team1, team2))\n",
    "    size = len(team1) + len(team2)\n",
    "    denom = math.sqrt(size * (BETA * BETA) + sum_sigma)\n",
    "    ts = global_env()\n",
    "    return ts.cdf(delta_mu / denom)"
   ]
  },
  {
   "cell_type": "code",
   "execution_count": 13,
   "metadata": {},
   "outputs": [],
   "source": [
    "matches = load_json('stats/matches.json')\n",
    "teams = {}\n",
    "players = {}\n",
    "formations = {}\n",
    "for match in matches:\n",
    "    vs = []\n",
    "    vs_formation = []\n",
    "    all_players = []\n",
    "    all_formations = []\n",
    "    for i, team in enumerate(match['teams']):\n",
    "        team_name = match['team_names'][i]\n",
    "        team_players = []\n",
    "        if team_name not in teams:\n",
    "            teams[team_name] = {'players': {}, 'name': team_name, 'formations': {}}\n",
    "        for player_name in team:\n",
    "            player_name = ','.join([player_name, team_name])\n",
    "            if player_name not in players:\n",
    "                players[player_name] = {'rate': Rating(), 'name': player_name}\n",
    "            teams[team_name]['players'][player_name] = players[player_name]['rate']\n",
    "            team_players.append(players[player_name]['rate'])\n",
    "            all_players.append(player_name)\n",
    "        formation_name = ','.join(sorted(team))\n",
    "        if formation_name not in formations:\n",
    "            formations[formation_name] = {'rate': Rating(), 'name': formation_name}\n",
    "        teams[team_name]['formations'][formation_name] = formations[formation_name]['rate']\n",
    "        vs.append(team_players)\n",
    "        vs_formation.append([formations[formation_name]['rate']])\n",
    "        all_formations.append(formation_name)\n",
    "    ranks = match['ranks']\n",
    "    ranks.reverse()\n",
    "    new_ratings = rate(vs, ranks)\n",
    "    new_ratings = list(new_ratings[0]) + list(new_ratings[1])\n",
    "    for i, rating in enumerate(new_ratings):\n",
    "        players[all_players[i]]['rate'] = rating\n",
    "    new_ratings = rate(vs_formation, ranks)\n",
    "    new_ratings = list(new_ratings[0]) + list(new_ratings[1])\n",
    "    for i, rating in enumerate(new_ratings):\n",
    "        formations[all_formations[i]]['rate'] = rating\n"
   ]
  },
  {
   "cell_type": "code",
   "execution_count": 14,
   "metadata": {},
   "outputs": [
    {
     "data": {
      "text/plain": [
       "dict_keys(['SFS', 'VAL', 'SHD', 'GLA', 'DAL', 'SEO', 'LDN', 'FLA', 'PHI', 'HOU', 'BOS', 'NYE'])"
      ]
     },
     "execution_count": 14,
     "metadata": {},
     "output_type": "execute_result"
    }
   ],
   "source": [
    "teams.keys()"
   ]
  },
  {
   "cell_type": "code",
   "execution_count": 59,
   "metadata": {},
   "outputs": [
    {
     "data": {
      "text/plain": [
       "[('Altering,FiveKing,Freefeel,Xushu,mg,uNdeAD',\n",
       "  trueskill.Rating(mu=28.010, sigma=4.911)),\n",
       " ('Ado,Altering,Diya,Fearless,Geguri,Sky',\n",
       "  trueskill.Rating(mu=25.896, sigma=2.902)),\n",
       " ('Altering,Diya,FiveKing,Roshan,Xushu,uNdeAD',\n",
       "  trueskill.Rating(mu=25.743, sigma=5.562)),\n",
       " ('Diya,FiveKing,Freefeel,Roshan,Xushu,uNdeAD',\n",
       "  trueskill.Rating(mu=25.000, sigma=4.815)),\n",
       " ('Altering,Freefeel,Roshan,Xushu,mg,uNdeAD',\n",
       "  trueskill.Rating(mu=25.000, sigma=8.333)),\n",
       " ('Ado,Altering,Diya,Fearless,Freefeel,Geguri',\n",
       "  trueskill.Rating(mu=24.163, sigma=2.327)),\n",
       " ('Ado,Altering,Fearless,FiveKing,Xushu,mg',\n",
       "  trueskill.Rating(mu=23.587, sigma=4.028)),\n",
       " ('Altering,FiveKing,Roshan,Xushu,mg,uNdeAD',\n",
       "  trueskill.Rating(mu=23.317, sigma=3.835)),\n",
       " ('Ado,Daemin,Fearless,FiveKing,Freefeel,Geguri',\n",
       "  trueskill.Rating(mu=22.787, sigma=7.331)),\n",
       " ('Ado,Diya,Fearless,FiveKing,Freefeel,Geguri',\n",
       "  trueskill.Rating(mu=22.676, sigma=2.453)),\n",
       " ('Ado,Fearless,FiveKing,Freefeel,Xushu,mg',\n",
       "  trueskill.Rating(mu=22.620, sigma=4.387)),\n",
       " ('Ado,Altering,Daemin,Fearless,Geguri,Sky',\n",
       "  trueskill.Rating(mu=22.567, sigma=4.652)),\n",
       " ('Ado,Daemin,Fearless,FiveKing,Sky,mg',\n",
       "  trueskill.Rating(mu=22.315, sigma=7.249)),\n",
       " ('Altering,Diya,Freefeel,Xushu,mg,uNdeAD',\n",
       "  trueskill.Rating(mu=22.247, sigma=3.983)),\n",
       " ('Altering,Diya,Freefeel,Roshan,Xushu,uNdeAD',\n",
       "  trueskill.Rating(mu=21.292, sigma=2.566)),\n",
       " ('Diya,FiveKing,Freefeel,Roshan,mg,uNdeAD',\n",
       "  trueskill.Rating(mu=21.147, sigma=3.376)),\n",
       " ('FiveKing,Freefeel,Roshan,Xushu,mg,uNdeAD',\n",
       "  trueskill.Rating(mu=21.029, sigma=4.233)),\n",
       " ('Diya,FiveKing,Roshan,Xushu,mg,uNdeAD',\n",
       "  trueskill.Rating(mu=20.604, sigma=7.171)),\n",
       " ('Altering,Diya,FiveKing,Roshan,mg,uNdeAD',\n",
       "  trueskill.Rating(mu=18.782, sigma=3.623)),\n",
       " ('Altering,Diya,Freefeel,Roshan,mg,uNdeAD',\n",
       "  trueskill.Rating(mu=16.415, sigma=2.225))]"
      ]
     },
     "execution_count": 59,
     "metadata": {},
     "output_type": "execute_result"
    }
   ],
   "source": [
    "# [(d['name'], d['rate']) for d in sorted(players.values(), key=lambda x: x['rate'].mu, reverse=True)]\n",
    "def best_formation(team_name):\n",
    "    return sorted(teams[team_name]['formations'].items(), key=lambda x:x[1].mu, reverse=True)[0][1]\n",
    "\n",
    "def most_formation(team_name):\n",
    "    return sorted(teams[team_name]['formations'].items(), key=lambda x:x[1].sigma, reverse=False)[0][1]\n",
    "\n",
    "sorted(teams['SHD']['formations'].items(), key=lambda x:x[1].mu, reverse=True)"
   ]
  },
  {
   "cell_type": "code",
   "execution_count": 58,
   "metadata": {},
   "outputs": [
    {
     "data": {
      "text/plain": [
       "0.9663346244262913"
      ]
     },
     "execution_count": 58,
     "metadata": {},
     "output_type": "execute_result"
    }
   ],
   "source": [
    "win_probability([most_formation('BOS')], [most_formation('SHD')])"
   ]
  },
  {
   "cell_type": "code",
   "execution_count": null,
   "metadata": {},
   "outputs": [],
   "source": []
  }
 ],
 "metadata": {
  "kernelspec": {
   "display_name": "Python 3",
   "language": "python",
   "name": "python3"
  },
  "language_info": {
   "codemirror_mode": {
    "name": "ipython",
    "version": 3
   },
   "file_extension": ".py",
   "mimetype": "text/x-python",
   "name": "python",
   "nbconvert_exporter": "python",
   "pygments_lexer": "ipython3",
   "version": "3.6.4"
  }
 },
 "nbformat": 4,
 "nbformat_minor": 2
}
