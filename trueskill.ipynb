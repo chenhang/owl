{
 "cells": [
  {
   "cell_type": "code",
   "execution_count": 2,
   "metadata": {},
   "outputs": [],
   "source": [
    "from owl import *\n",
    "from trueskill import Rating, rate, BETA, global_env\n",
    "import itertools\n",
    "import math\n",
    "\n",
    "def win_probability(team1, team2):\n",
    "    delta_mu = sum(r.mu for r in team1) - sum(r.mu for r in team2)\n",
    "    sum_sigma = sum(r.sigma ** 2 for r in itertools.chain(team1, team2))\n",
    "    size = len(team1) + len(team2)\n",
    "    denom = math.sqrt(size * (BETA * BETA) + sum_sigma)\n",
    "    ts = global_env()\n",
    "    return ts.cdf(delta_mu / denom)"
   ]
  },
  {
   "cell_type": "code",
   "execution_count": 3,
   "metadata": {},
   "outputs": [],
   "source": [
    "matches = load_json('leancloud_data/Match')"
   ]
  },
  {
   "cell_type": "code",
   "execution_count": 5,
   "metadata": {},
   "outputs": [
    {
     "data": {
      "text/plain": [
       "{'tournament': {'id': 3833, 'type': 'OPEN_MATCHES'},\n",
       " 'endDate': '2018-05-04T03:00:00.000Z',\n",
       " 'attributes': {},\n",
       " 'youtubeId': '',\n",
       " 'losses': [0, 0],\n",
       " 'conclusionStrategy': 'MINIMUM',\n",
       " 'conclusionValue': 4,\n",
       " 'stageId': 3,\n",
       " 'showStartTime': True,\n",
       " 'videos': [],\n",
       " 'week_no': 0,\n",
       " 'startDateTS': 1525395600000,\n",
       " 'id': 10592,\n",
       " 'showEndTime': True,\n",
       " 'state': 'PENDING',\n",
       " 'handle': 'match-cf8af816-bf67-ef4e-bb85-375bb5dd8a36',\n",
       " 'scores': [{'value': 0}, {'value': 0}],\n",
       " 'wins': [0, 0],\n",
       " 'stageName': '常规赛：第3阶段',\n",
       " 'games': [{'number': 1,\n",
       "   'state': 'PENDING',\n",
       "   'attributes': {'mapGuid': '0x080000000000005B', 'map': 'temple-of-anubis'},\n",
       "   'stats': None,\n",
       "   'id': 8405,\n",
       "   'attributesVersion': '0.2.0'},\n",
       "  {'number': 2,\n",
       "   'state': 'PENDING',\n",
       "   'attributes': {'mapGuid': '0x080000000000075E', 'map': 'blizzard-world'},\n",
       "   'stats': None,\n",
       "   'id': 8406,\n",
       "   'attributesVersion': '0.2.0'},\n",
       "  {'number': 3,\n",
       "   'state': 'PENDING',\n",
       "   'attributes': {'mapGuid': '0x08000000000004B7', 'map': 'nepal'},\n",
       "   'stats': None,\n",
       "   'id': 8407,\n",
       "   'attributesVersion': '0.2.0'},\n",
       "  {'number': 4,\n",
       "   'state': 'PENDING',\n",
       "   'attributes': {'mapGuid': '0x08000000000005BB', 'map': 'route-66'},\n",
       "   'stats': None,\n",
       "   'id': 8408,\n",
       "   'attributesVersion': '0.2.0'}],\n",
       " 'competitors': [{'game': 'OVERWATCH',\n",
       "   'handle': 'boston.8698',\n",
       "   'logo': 'https://bnetcmsus-a.akamaihd.net/cms/page_media/43UINMGMA83X1513383982827.png',\n",
       "   'type': 'TEAM',\n",
       "   'availableLanguages': ['en', 'ja', 'zh-tw', 'zh-cn', 'th', 'ko', 'ru'],\n",
       "   'primaryColor': '174b97',\n",
       "   'homeLocation': '马萨诸塞州，波士顿',\n",
       "   'addressCountry': 'US',\n",
       "   'name': '波士顿崛起队',\n",
       "   'secondaryColor': 'f2df00',\n",
       "   'secondaryPhoto': 'https://bnetcmsus-a.akamaihd.net/cms/page_media/W4FGQ24HKCB51513383982827.svg',\n",
       "   'icon': 'https://bnetcmsus-a.akamaihd.net/cms/page_media/W4FGQ24HKCB51513383982827.svg',\n",
       "   'id': 4402,\n",
       "   'abbreviatedName': 'BOS'},\n",
       "  {'game': 'OVERWATCH',\n",
       "   'handle': 'los-angeles-a.2779',\n",
       "   'logo': 'https://bnetcmsus-a.akamaihd.net/cms/page_media/0D8BNUWVZP6B1508792362890.PNG',\n",
       "   'type': 'TEAM',\n",
       "   'availableLanguages': ['en', 'zh-cn', 'th', 'ko', 'ru', 'ja', 'zh-tw'],\n",
       "   'primaryColor': '4a7729',\n",
       "   'homeLocation': '加利福尼亚州，洛杉矶',\n",
       "   'addressCountry': 'US',\n",
       "   'name': '洛杉矶英勇队',\n",
       "   'secondaryColor': '000000',\n",
       "   'secondaryPhoto': 'https://bnetcmsus-a.akamaihd.net/cms/template_resource/L3U59GQVS1ZK1507822882879.svg',\n",
       "   'icon': 'https://bnetcmsus-a.akamaihd.net/cms/template_resource/L3U59GQVS1ZK1507822882879.svg',\n",
       "   'id': 4405,\n",
       "   'abbreviatedName': 'VAL'}],\n",
       " 'dateCreated': 1508529494026,\n",
       " 'flags': [],\n",
       " 'ties': [0, 0],\n",
       " 'clientHints': [],\n",
       " 'startDate': '2018-05-04T01:00:00.000Z',\n",
       " 'endDateTS': 1525402800000}"
      ]
     },
     "execution_count": 5,
     "metadata": {},
     "output_type": "execute_result"
    }
   ],
   "source": [
    "matches['Match_10592']"
   ]
  },
  {
   "cell_type": "code",
   "execution_count": null,
   "metadata": {},
   "outputs": [],
   "source": []
  }
 ],
 "metadata": {
  "kernelspec": {
   "display_name": "Python 3",
   "language": "python",
   "name": "python3"
  },
  "language_info": {
   "codemirror_mode": {
    "name": "ipython",
    "version": 3
   },
   "file_extension": ".py",
   "mimetype": "text/x-python",
   "name": "python",
   "nbconvert_exporter": "python",
   "pygments_lexer": "ipython3",
   "version": "3.6.4"
  }
 },
 "nbformat": 4,
 "nbformat_minor": 2
}
