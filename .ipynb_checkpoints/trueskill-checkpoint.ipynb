{
 "cells": [
  {
   "cell_type": "code",
   "execution_count": 1,
   "metadata": {},
   "outputs": [],
   "source": [
    "from owl import *\n",
    "from trueskill import Rating, rate, BETA, global_env\n",
    "import itertools\n",
    "import math\n",
    "\n",
    "def win_probability(team1, team2):\n",
    "    delta_mu = sum(r.mu for r in team1) - sum(r.mu for r in team2)\n",
    "    sum_sigma = sum(r.sigma ** 2 for r in itertools.chain(team1, team2))\n",
    "    size = len(team1) + len(team2)\n",
    "    denom = math.sqrt(size * (BETA * BETA) + sum_sigma)\n",
    "    ts = global_env()\n",
    "    return ts.cdf(delta_mu / denom)"
   ]
  },
  {
   "cell_type": "code",
   "execution_count": 13,
   "metadata": {},
   "outputs": [],
   "source": [
    "matches = load_json('stats/matches.json')\n",
    "teams = {}\n",
    "players = {}\n",
    "formations = {}\n",
    "for match in matches:\n",
    "    vs = []\n",
    "    vs_formation = []\n",
    "    all_players = []\n",
    "    all_formations = []\n",
    "    for i, team in enumerate(match['teams']):\n",
    "        team_name = match['team_names'][i]\n",
    "        team_players = []\n",
    "        if team_name not in teams:\n",
    "            teams[team_name] = {'players': {}, 'name': team_name, 'formations': {}}\n",
    "        for player_name in team:\n",
    "            player_name = ','.join([player_name, team_name])\n",
    "            if player_name not in players:\n",
    "                players[player_name] = {'rate': Rating(), 'name': player_name}\n",
    "            teams[team_name]['players'][player_name] = players[player_name]['rate']\n",
    "            team_players.append(players[player_name]['rate'])\n",
    "            all_players.append(player_name)\n",
    "        formation_name = ','.join(sorted(team))\n",
    "        if formation_name not in formations:\n",
    "            formations[formation_name] = {'rate': Rating(), 'name': formation_name}\n",
    "        teams[team_name]['formations'][formation_name] = formations[formation_name]['rate']\n",
    "        vs.append(team_players)\n",
    "        vs_formation.append([formations[formation_name]['rate']])\n",
    "        all_formations.append(formation_name)\n",
    "    ranks = match['ranks']\n",
    "    ranks.reverse()\n",
    "    new_ratings = rate(vs, ranks)\n",
    "    new_ratings = list(new_ratings[0]) + list(new_ratings[1])\n",
    "    for i, rating in enumerate(new_ratings):\n",
    "        players[all_players[i]]['rate'] = rating\n",
    "    new_ratings = rate(vs_formation, ranks)\n",
    "    new_ratings = list(new_ratings[0]) + list(new_ratings[1])\n",
    "    for i, rating in enumerate(new_ratings):\n",
    "        formations[all_formations[i]]['rate'] = rating\n"
   ]
  },
  {
   "cell_type": "code",
   "execution_count": 14,
   "metadata": {},
   "outputs": [
    {
     "data": {
      "text/plain": [
       "dict_keys(['SFS', 'VAL', 'SHD', 'GLA', 'DAL', 'SEO', 'LDN', 'FLA', 'PHI', 'HOU', 'BOS', 'NYE'])"
      ]
     },
     "execution_count": 14,
     "metadata": {},
     "output_type": "execute_result"
    }
   ],
   "source": [
    "teams.keys()"
   ]
  },
  {
   "cell_type": "code",
   "execution_count": 55,
   "metadata": {},
   "outputs": [
    {
     "data": {
      "text/plain": [
       "('Altering,Diya,Freefeel,Roshan,mg,uNdeAD',\n",
       " trueskill.Rating(mu=16.415, sigma=2.225))"
      ]
     },
     "execution_count": 55,
     "metadata": {},
     "output_type": "execute_result"
    }
   ],
   "source": [
    "# [(d['name'], d['rate']) for d in sorted(players.values(), key=lambda x: x['rate'].mu, reverse=True)]\n",
    "def best_formation(team_name):\n",
    "    return sorted(teams[team_name]['formations'].items(), key=lambda x:x[1].mu, reverse=True)[0][1]\n",
    "\n",
    "def most_formation(team_name):\n",
    "    return sorted(teams[team_name]['formations'].items(), key=lambda x:x[1].sigma, reverse=False)[0][1]\n",
    "\n",
    "# sorted(teams['SHD']['formations'].items(), key=lambda x:x[1].mu, reverse=True)"
   ]
  },
  {
   "cell_type": "code",
   "execution_count": 54,
   "metadata": {},
   "outputs": [
    {
     "data": {
      "text/plain": [
       "0.9663346244262913"
      ]
     },
     "execution_count": 54,
     "metadata": {},
     "output_type": "execute_result"
    }
   ],
   "source": [
    "win_probability([most_formation('BOS')], [most_formation('SHD')])"
   ]
  },
  {
   "cell_type": "code",
   "execution_count": null,
   "metadata": {},
   "outputs": [],
   "source": []
  }
 ],
 "metadata": {
  "kernelspec": {
   "display_name": "Python 3",
   "language": "python",
   "name": "python3"
  },
  "language_info": {
   "codemirror_mode": {
    "name": "ipython",
    "version": 3
   },
   "file_extension": ".py",
   "mimetype": "text/x-python",
   "name": "python",
   "nbconvert_exporter": "python",
   "pygments_lexer": "ipython3",
   "version": "3.6.4"
  }
 },
 "nbformat": 4,
 "nbformat_minor": 2
}
