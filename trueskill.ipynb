{
 "cells": [
  {
   "cell_type": "code",
   "execution_count": 2,
   "metadata": {},
   "outputs": [],
   "source": [
    "from owl import *\n",
    "from trueskill import Rating, rate, BETA, global_env\n",
    "import itertools\n",
    "import math\n",
    "\n",
    "def win_probability(team1, team2):\n",
    "    delta_mu = sum(r.mu for r in team1) - sum(r.mu for r in team2)\n",
    "    sum_sigma = sum(r.sigma ** 2 for r in itertools.chain(team1, team2))\n",
    "    size = len(team1) + len(team2)\n",
    "    denom = math.sqrt(size * (BETA * BETA) + sum_sigma)\n",
    "    ts = global_env()\n",
    "    return ts.cdf(delta_mu / denom)"
   ]
  },
  {
   "cell_type": "code",
   "execution_count": 12,
   "metadata": {},
   "outputs": [],
   "source": [
    "matches = load_json('stats/matches.json')\n",
    "teams = {}\n",
    "players = {}\n",
    "formations = {}\n",
    "for match in matches:\n",
    "    vs = []\n",
    "    vs_formation = []\n",
    "    all_players = []\n",
    "    all_formations = []\n",
    "    for i, team in enumerate(match['teams']):\n",
    "        team_name = match['team_names'][i]\n",
    "        team_players = []\n",
    "        if team_name not in teams:\n",
    "            teams[team_name] = {'players': {}, 'name': team_name, 'formations': {}}\n",
    "        for player_name in team:\n",
    "            if player_name not in players:\n",
    "                players[player_name] = {'rate': Rating(), 'name': player_name}\n",
    "            teams[team_name]['players'][player_name] = players[player_name]['rate']\n",
    "            team_players.append(players[player_name]['rate'])\n",
    "            all_players.append(player_name)\n",
    "        formation_name = ','.join(team)\n",
    "        if formation_name not in formations:\n",
    "            formations[formation_name] = {'rate': Rating(), 'name': formation_name}\n",
    "        teams[team_name]['formations'][formation_name] = formations[formation_name]['rate']\n",
    "        vs.append(team_players)\n",
    "        vs_formation.append([formations[formation_name]['rate']])\n",
    "        all_formations.append(formation_name)\n",
    "    ranks = match['ranks']\n",
    "    ranks.reverse()\n",
    "    new_ratings = rate(vs, ranks)\n",
    "    new_ratings = list(new_ratings[0]) + list(new_ratings[1])\n",
    "    for i, rating in enumerate(new_ratings):\n",
    "        players[all_players[i]]['rate'] = rating\n",
    "    new_ratings = rate(vs_formation, ranks)\n",
    "    new_ratings = list(new_ratings[0]) + list(new_ratings[1])\n",
    "    for i, rating in enumerate(new_ratings):\n",
    "        formations[all_formations[i]]['rate'] = rating\n"
   ]
  },
  {
   "cell_type": "code",
   "execution_count": 15,
   "metadata": {},
   "outputs": [
    {
     "data": {
      "text/plain": [
       "dict_keys(['SFS', 'VAL', 'SHD', 'GLA', 'DAL', 'SEO', 'LDN', 'FLA', 'PHI', 'HOU', 'BOS', 'NYE'])"
      ]
     },
     "execution_count": 15,
     "metadata": {},
     "output_type": "execute_result"
    }
   ],
   "source": [
    "teams.keys()"
   ]
  },
  {
   "cell_type": "code",
   "execution_count": 24,
   "metadata": {},
   "outputs": [
    {
     "data": {
      "text/plain": [
       "[('NotE', trueskill.Rating(mu=28.049, sigma=1.991)),\n",
       " ('DreamKazper', trueskill.Rating(mu=26.215, sigma=2.364)),\n",
       " ('Mistakes', trueskill.Rating(mu=25.302, sigma=2.884)),\n",
       " ('Kalios', trueskill.Rating(mu=25.282, sigma=3.910)),\n",
       " ('Kellex', trueskill.Rating(mu=25.142, sigma=1.914)),\n",
       " ('Neko', trueskill.Rating(mu=25.142, sigma=1.914)),\n",
       " ('Striker', trueskill.Rating(mu=25.031, sigma=1.920)),\n",
       " ('Gamsu', trueskill.Rating(mu=24.105, sigma=1.979))]"
      ]
     },
     "execution_count": 24,
     "metadata": {},
     "output_type": "execute_result"
    }
   ],
   "source": [
    "sorted(teams['BOS']['players'].items(), key=lambda x:x[1].mu, reverse=True)"
   ]
  },
  {
   "cell_type": "code",
   "execution_count": 30,
   "metadata": {},
   "outputs": [
    {
     "data": {
      "text/plain": [
       "[('super', trueskill.Rating(mu=30.984, sigma=2.917)),\n",
       " ('Geguri', trueskill.Rating(mu=29.351, sigma=3.192)),\n",
       " ('zunba', trueskill.Rating(mu=28.978, sigma=2.402)),\n",
       " ('cocco', trueskill.Rating(mu=28.912, sigma=3.347)),\n",
       " ('Hydration', trueskill.Rating(mu=28.819, sigma=2.391)),\n",
       " ('Fleta', trueskill.Rating(mu=28.593, sigma=2.233)),\n",
       " ('Custa', trueskill.Rating(mu=28.571, sigma=2.351)),\n",
       " ('LiNkzr', trueskill.Rating(mu=28.370, sigma=1.939)),\n",
       " ('Pine', trueskill.Rating(mu=28.112, sigma=3.174)),\n",
       " ('NotE', trueskill.Rating(mu=28.057, sigma=1.978)),\n",
       " ('tobi', trueskill.Rating(mu=28.001, sigma=2.206)),\n",
       " ('Moth', trueskill.Rating(mu=27.734, sigma=2.467)),\n",
       " ('Saebyeolbe', trueskill.Rating(mu=27.644, sigma=1.946)),\n",
       " ('Kariv', trueskill.Rating(mu=27.627, sigma=2.196)),\n",
       " ('neptuNo', trueskill.Rating(mu=27.454, sigma=1.864)),\n",
       " ('OGe', trueskill.Rating(mu=27.369, sigma=3.442)),\n",
       " ('Gesture', trueskill.Rating(mu=27.311, sigma=1.950)),\n",
       " ('Surefour', trueskill.Rating(mu=27.304, sigma=2.092)),\n",
       " ('ryujehong', trueskill.Rating(mu=27.246, sigma=2.216)),\n",
       " ('Mano', trueskill.Rating(mu=27.190, sigma=2.237)),\n",
       " ('Sky', trueskill.Rating(mu=27.166, sigma=4.945)),\n",
       " ('uNKOE', trueskill.Rating(mu=27.021, sigma=2.078)),\n",
       " ('Profit', trueskill.Rating(mu=26.828, sigma=1.953)),\n",
       " ('ArK', trueskill.Rating(mu=26.820, sigma=2.018)),\n",
       " ('Fury', trueskill.Rating(mu=26.818, sigma=2.271)),\n",
       " ('Wekeed', trueskill.Rating(mu=26.760, sigma=3.627)),\n",
       " ('Eqo', trueskill.Rating(mu=26.714, sigma=2.536)),\n",
       " ('Envy', trueskill.Rating(mu=26.531, sigma=2.508)),\n",
       " ('Shaz', trueskill.Rating(mu=26.390, sigma=1.892)),\n",
       " ('BigG00se', trueskill.Rating(mu=26.390, sigma=1.892)),\n",
       " ('Bischu', trueskill.Rating(mu=26.357, sigma=1.897)),\n",
       " ('Xushu', trueskill.Rating(mu=26.353, sigma=3.427)),\n",
       " ('MekO', trueskill.Rating(mu=26.257, sigma=1.864)),\n",
       " ('JJoNak', trueskill.Rating(mu=26.257, sigma=1.864)),\n",
       " ('SoOn', trueskill.Rating(mu=26.236, sigma=2.161)),\n",
       " ('DreamKazper', trueskill.Rating(mu=26.102, sigma=2.341)),\n",
       " ('ANAMO', trueskill.Rating(mu=26.042, sigma=4.226)),\n",
       " ('silkthread', trueskill.Rating(mu=25.972, sigma=4.624)),\n",
       " ('Seagull', trueskill.Rating(mu=25.965, sigma=2.758)),\n",
       " ('FaTe', trueskill.Rating(mu=25.949, sigma=2.068)),\n",
       " ('Logix', trueskill.Rating(mu=25.735, sigma=2.347)),\n",
       " ('Boink', trueskill.Rating(mu=25.733, sigma=2.742)),\n",
       " ('Miro', trueskill.Rating(mu=25.688, sigma=2.215)),\n",
       " ('KSF', trueskill.Rating(mu=25.594, sigma=7.466)),\n",
       " ('Bani', trueskill.Rating(mu=25.565, sigma=2.362)),\n",
       " ('Carpe', trueskill.Rating(mu=25.497, sigma=1.920)),\n",
       " ('Taimou', trueskill.Rating(mu=25.429, sigma=2.778)),\n",
       " ('CWoosH', trueskill.Rating(mu=25.367, sigma=2.357)),\n",
       " ('Mistakes', trueskill.Rating(mu=25.319, sigma=2.839)),\n",
       " ('Effect', trueskill.Rating(mu=25.276, sigma=2.323)),\n",
       " ('Daemin', trueskill.Rating(mu=25.236, sigma=6.322)),\n",
       " ('coolmatt', trueskill.Rating(mu=25.218, sigma=1.926)),\n",
       " ('Poko', trueskill.Rating(mu=25.218, sigma=1.911)),\n",
       " ('babybay', trueskill.Rating(mu=25.156, sigma=2.588)),\n",
       " ('Kellex', trueskill.Rating(mu=25.149, sigma=1.902)),\n",
       " ('Neko', trueskill.Rating(mu=25.149, sigma=1.902)),\n",
       " ('Nus', trueskill.Rating(mu=25.137, sigma=2.400)),\n",
       " ('Space', trueskill.Rating(mu=25.132, sigma=3.138)),\n",
       " ('Kalios', trueskill.Rating(mu=25.109, sigma=3.817)),\n",
       " ('KuKi', trueskill.Rating(mu=25.083, sigma=4.544)),\n",
       " ('Striker', trueskill.Rating(mu=25.039, sigma=1.909)),\n",
       " ('Nevix', trueskill.Rating(mu=24.949, sigma=1.977)),\n",
       " ('Rascal', trueskill.Rating(mu=24.942, sigma=3.620)),\n",
       " ('Sleepy', trueskill.Rating(mu=24.928, sigma=1.998)),\n",
       " ('TviQ', trueskill.Rating(mu=24.882, sigma=2.025)),\n",
       " ('iRemiix', trueskill.Rating(mu=24.851, sigma=3.381)),\n",
       " ('Bdosin', trueskill.Rating(mu=24.831, sigma=2.138)),\n",
       " ('Manneten', trueskill.Rating(mu=24.788, sigma=1.983)),\n",
       " ('Zebbosai', trueskill.Rating(mu=24.788, sigma=1.983)),\n",
       " ('Zuppeh', trueskill.Rating(mu=24.788, sigma=1.983)),\n",
       " ('Fragi', trueskill.Rating(mu=24.770, sigma=1.859)),\n",
       " ('Boombox', trueskill.Rating(mu=24.758, sigma=1.910)),\n",
       " ('HagoPeun', trueskill.Rating(mu=24.612, sigma=3.550)),\n",
       " ('FiveKing', trueskill.Rating(mu=24.534, sigma=2.920)),\n",
       " ('Danteh', trueskill.Rating(mu=24.453, sigma=2.125)),\n",
       " ('Muma', trueskill.Rating(mu=24.429, sigma=1.947)),\n",
       " ('Architect', trueskill.Rating(mu=24.426, sigma=3.188)),\n",
       " ('Spree', trueskill.Rating(mu=24.320, sigma=5.877)),\n",
       " ('Xepher', trueskill.Rating(mu=24.227, sigma=3.477)),\n",
       " ('nomy', trueskill.Rating(mu=24.115, sigma=2.401)),\n",
       " ('Gamsu', trueskill.Rating(mu=24.113, sigma=1.966)),\n",
       " ('aKm', trueskill.Rating(mu=24.063, sigma=2.681)),\n",
       " ('Freefeel', trueskill.Rating(mu=24.041, sigma=2.567)),\n",
       " ('dhaK', trueskill.Rating(mu=24.034, sigma=2.876)),\n",
       " ('Closer', trueskill.Rating(mu=23.937, sigma=2.789)),\n",
       " ('HOTBA', trueskill.Rating(mu=23.903, sigma=5.305)),\n",
       " ('ShaDowBurn', trueskill.Rating(mu=23.896, sigma=3.113)),\n",
       " ('Birdring', trueskill.Rating(mu=23.752, sigma=2.282)),\n",
       " ('Diya', trueskill.Rating(mu=23.709, sigma=2.477)),\n",
       " ('JAKE', trueskill.Rating(mu=23.658, sigma=1.980)),\n",
       " ('sinatraa', trueskill.Rating(mu=23.545, sigma=3.211)),\n",
       " ('Fissure', trueskill.Rating(mu=23.514, sigma=2.091)),\n",
       " ('Rawkus', trueskill.Rating(mu=23.509, sigma=1.902)),\n",
       " ('snillo', trueskill.Rating(mu=23.508, sigma=3.027)),\n",
       " ('uNdeAD', trueskill.Rating(mu=23.389, sigma=2.914)),\n",
       " ('Asher', trueskill.Rating(mu=23.301, sigma=2.353)),\n",
       " ('sayaplayer', trueskill.Rating(mu=23.091, sigma=3.023)),\n",
       " ('Libero', trueskill.Rating(mu=23.006, sigma=2.017)),\n",
       " ('Altering', trueskill.Rating(mu=22.991, sigma=2.590)),\n",
       " ('Hooreg', trueskill.Rating(mu=22.926, sigma=2.973)),\n",
       " ('Woohyal', trueskill.Rating(mu=22.911, sigma=3.054)),\n",
       " ('clockwork', trueskill.Rating(mu=22.576, sigma=4.150)),\n",
       " ('janus', trueskill.Rating(mu=22.572, sigma=2.691)),\n",
       " ('HarryHook', trueskill.Rating(mu=22.549, sigma=2.219)),\n",
       " ('munchkin', trueskill.Rating(mu=22.404, sigma=2.342)),\n",
       " ('aWesomeGuy', trueskill.Rating(mu=22.116, sigma=3.114)),\n",
       " ('Roshan', trueskill.Rating(mu=22.008, sigma=3.015)),\n",
       " ('FCTFCTN', trueskill.Rating(mu=21.952, sigma=5.397)),\n",
       " ('Ado', trueskill.Rating(mu=21.488, sigma=2.979)),\n",
       " ('Fearless', trueskill.Rating(mu=21.488, sigma=2.979)),\n",
       " ('chipshajen', trueskill.Rating(mu=21.476, sigma=2.726)),\n",
       " ('Gido', trueskill.Rating(mu=21.468, sigma=4.351)),\n",
       " ('Dayfly', trueskill.Rating(mu=21.031, sigma=5.191)),\n",
       " ('Mickie', trueskill.Rating(mu=20.751, sigma=2.047)),\n",
       " ('Agilities', trueskill.Rating(mu=20.668, sigma=2.637)),\n",
       " ('zappis', trueskill.Rating(mu=20.632, sigma=7.150)),\n",
       " ('Verbo', trueskill.Rating(mu=20.622, sigma=2.883)),\n",
       " ('Gambler', trueskill.Rating(mu=20.451, sigma=4.819)),\n",
       " ('xQc', trueskill.Rating(mu=19.868, sigma=4.599)),\n",
       " ('mg', trueskill.Rating(mu=19.721, sigma=3.021)),\n",
       " ('Bunny', trueskill.Rating(mu=18.260, sigma=3.203))]"
      ]
     },
     "execution_count": 30,
     "metadata": {},
     "output_type": "execute_result"
    }
   ],
   "source": [
    "[(d['name'], d['rate']) for d in sorted(players.values(), key=lambda x: x['rate'].mu, reverse=True)]"
   ]
  },
  {
   "cell_type": "code",
   "execution_count": null,
   "metadata": {},
   "outputs": [],
   "source": []
  }
 ],
 "metadata": {
  "kernelspec": {
   "display_name": "Python 3",
   "language": "python",
   "name": "python3"
  },
  "language_info": {
   "codemirror_mode": {
    "name": "ipython",
    "version": 3
   },
   "file_extension": ".py",
   "mimetype": "text/x-python",
   "name": "python",
   "nbconvert_exporter": "python",
   "pygments_lexer": "ipython3",
   "version": "3.6.4"
  }
 },
 "nbformat": 4,
 "nbformat_minor": 2
}
